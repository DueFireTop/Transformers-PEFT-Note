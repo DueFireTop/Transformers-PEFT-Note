{
 "cells": [
  {
   "cell_type": "code",
   "execution_count": 1,
   "metadata": {},
   "outputs": [
    {
     "name": "stderr",
     "output_type": "stream",
     "text": [
      "d:\\work_tools\\Anaconda\\program\\envs\\my_transformers\\lib\\site-packages\\tqdm\\auto.py:21: TqdmWarning: IProgress not found. Please update jupyter and ipywidgets. See https://ipywidgets.readthedocs.io/en/stable/user_install.html\n",
      "  from .autonotebook import tqdm as notebook_tqdm\n"
     ]
    }
   ],
   "source": [
    "import evaluate"
   ]
  },
  {
   "cell_type": "markdown",
   "metadata": {},
   "source": [
    "# Evaluate使用指南"
   ]
  },
  {
   "cell_type": "markdown",
   "metadata": {},
   "source": [
    "## 1. 查看支持的评估函数"
   ]
  },
  {
   "cell_type": "code",
   "execution_count": 7,
   "metadata": {},
   "outputs": [
    {
     "data": {
      "text/plain": [
       "['lvwerra/test',\n",
       " 'jordyvl/ece',\n",
       " 'angelina-wang/directional_bias_amplification',\n",
       " 'cpllab/syntaxgym',\n",
       " 'lvwerra/bary_score',\n",
       " 'hack/test_metric',\n",
       " 'yzha/ctc_eval',\n",
       " 'codeparrot/apps_metric',\n",
       " 'mfumanelli/geometric_mean',\n",
       " 'daiyizheng/valid',\n",
       " 'erntkn/dice_coefficient',\n",
       " 'mgfrantz/roc_auc_macro',\n",
       " 'Vlasta/pr_auc',\n",
       " 'gorkaartola/metric_for_tp_fp_samples',\n",
       " 'idsedykh/metric',\n",
       " 'idsedykh/codebleu2',\n",
       " 'idsedykh/codebleu',\n",
       " 'idsedykh/megaglue',\n",
       " 'cakiki/ndcg',\n",
       " 'Vertaix/vendiscore',\n",
       " 'GMFTBY/dailydialogevaluate',\n",
       " 'GMFTBY/dailydialog_evaluate',\n",
       " 'jzm-mailchimp/joshs_second_test_metric',\n",
       " 'ola13/precision_at_k',\n",
       " 'yulong-me/yl_metric',\n",
       " 'abidlabs/mean_iou',\n",
       " 'abidlabs/mean_iou2',\n",
       " 'KevinSpaghetti/accuracyk',\n",
       " 'NimaBoscarino/weat',\n",
       " 'ronaldahmed/nwentfaithfulness',\n",
       " 'Viona/infolm',\n",
       " 'kyokote/my_metric2',\n",
       " 'kashif/mape',\n",
       " 'Ochiroo/rouge_mn',\n",
       " 'giulio98/code_eval_outputs',\n",
       " 'leslyarun/fbeta_score',\n",
       " 'giulio98/codebleu',\n",
       " 'anz2/iliauniiccocrevaluation',\n",
       " 'zbeloki/m2',\n",
       " 'xu1998hz/sescore',\n",
       " 'dvitel/codebleu',\n",
       " 'NCSOFT/harim_plus',\n",
       " 'JP-SystemsX/nDCG',\n",
       " 'sportlosos/sescore',\n",
       " 'Drunper/metrica_tesi',\n",
       " 'jpxkqx/peak_signal_to_noise_ratio',\n",
       " 'jpxkqx/signal_to_reconstruction_error',\n",
       " 'hpi-dhc/FairEval',\n",
       " 'lvwerra/accuracy_score',\n",
       " 'ybelkada/cocoevaluate',\n",
       " 'harshhpareek/bertscore',\n",
       " 'posicube/mean_reciprocal_rank',\n",
       " 'bstrai/classification_report',\n",
       " 'omidf/squad_precision_recall',\n",
       " 'Josh98/nl2bash_m',\n",
       " 'BucketHeadP65/confusion_matrix',\n",
       " 'BucketHeadP65/roc_curve',\n",
       " 'yonting/average_precision_score',\n",
       " 'transZ/test_parascore',\n",
       " 'transZ/sbert_cosine',\n",
       " 'hynky/sklearn_proxy',\n",
       " 'xu1998hz/sescore_english_mt',\n",
       " 'xu1998hz/sescore_german_mt',\n",
       " 'xu1998hz/sescore_english_coco',\n",
       " 'xu1998hz/sescore_english_webnlg',\n",
       " 'unnati/kendall_tau_distance',\n",
       " 'Viona/fuzzy_reordering',\n",
       " 'Viona/kendall_tau',\n",
       " 'lhy/hamming_loss',\n",
       " 'lhy/ranking_loss',\n",
       " 'Muennighoff/code_eval_octopack',\n",
       " 'yuyijiong/quad_match_score',\n",
       " 'Splend1dchan/cosine_similarity',\n",
       " 'AlhitawiMohammed22/CER_Hu-Evaluation-Metrics',\n",
       " 'Yeshwant123/mcc',\n",
       " 'transformersegmentation/segmentation_scores',\n",
       " 'sma2023/wil',\n",
       " 'chanelcolgate/average_precision',\n",
       " 'ckb/unigram',\n",
       " 'Felipehonorato/eer',\n",
       " 'manueldeprada/beer',\n",
       " 'tialaeMceryu/unigram',\n",
       " 'shunzh/apps_metric',\n",
       " 'He-Xingwei/sari_metric',\n",
       " 'langdonholmes/cohen_weighted_kappa',\n",
       " 'fschlatt/ner_eval',\n",
       " 'hyperml/balanced_accuracy',\n",
       " 'brian920128/doc_retrieve_metrics',\n",
       " 'guydav/restrictedpython_code_eval',\n",
       " 'k4black/codebleu',\n",
       " 'Natooz/ece',\n",
       " 'ingyu/klue_mrc',\n",
       " 'Vipitis/shadermatch',\n",
       " 'unitxt/metric',\n",
       " 'gabeorlanski/bc_eval',\n",
       " 'jjkim0807/code_eval',\n",
       " 'vichyt/metric-codebleu',\n",
       " 'repllabs/mean_reciprocal_rank',\n",
       " 'repllabs/mean_average_precision',\n",
       " 'mtc/fragments',\n",
       " 'DarrenChensformer/eval_keyphrase',\n",
       " 'kedudzic/charmatch',\n",
       " 'Vallp/ter',\n",
       " 'DarrenChensformer/relation_extraction',\n",
       " 'Ikala-allen/relation_extraction',\n",
       " 'danieldux/hierarchical_softmax_loss',\n",
       " 'nlpln/tst',\n",
       " 'bdsaglam/jer',\n",
       " 'fnvls/bleu1234',\n",
       " 'fnvls/bleu_1234',\n",
       " 'nevikw39/specificity',\n",
       " 'yqsong/execution_accuracy',\n",
       " 'shalakasatheesh/squad_v2',\n",
       " 'arthurvqin/pr_auc',\n",
       " 'd-matrix/dmx_perplexity',\n",
       " 'ncoop57/levenshtein_distance',\n",
       " 'kaleidophon/almost_stochastic_order',\n",
       " 'lvwerra/element_count',\n",
       " 'prb977/cooccurrence_count',\n",
       " 'NimaBoscarino/pseudo_perplexity',\n",
       " 'ybelkada/toxicity',\n",
       " 'ronaldahmed/ccl_win',\n",
       " 'cakiki/tokens_per_byte',\n",
       " 'lsy641/distinct']"
      ]
     },
     "execution_count": 7,
     "metadata": {},
     "output_type": "execute_result"
    }
   ],
   "source": [
    "evaluate.list_evaluation_modules()"
   ]
  },
  {
   "cell_type": "code",
   "execution_count": 6,
   "metadata": {},
   "outputs": [
    {
     "data": {
      "text/plain": [
       "[{'name': 'lvwerra/test', 'type': 'metric', 'community': True, 'likes': 0},\n",
       " {'name': 'jordyvl/ece', 'type': 'metric', 'community': True, 'likes': 3},\n",
       " {'name': 'angelina-wang/directional_bias_amplification',\n",
       "  'type': 'metric',\n",
       "  'community': True,\n",
       "  'likes': 5},\n",
       " {'name': 'cpllab/syntaxgym', 'type': 'metric', 'community': True, 'likes': 0},\n",
       " {'name': 'lvwerra/bary_score',\n",
       "  'type': 'metric',\n",
       "  'community': True,\n",
       "  'likes': 1},\n",
       " {'name': 'hack/test_metric', 'type': 'metric', 'community': True, 'likes': 0},\n",
       " {'name': 'yzha/ctc_eval', 'type': 'metric', 'community': True, 'likes': 1},\n",
       " {'name': 'codeparrot/apps_metric',\n",
       "  'type': 'metric',\n",
       "  'community': True,\n",
       "  'likes': 5},\n",
       " {'name': 'mfumanelli/geometric_mean',\n",
       "  'type': 'metric',\n",
       "  'community': True,\n",
       "  'likes': 1},\n",
       " {'name': 'daiyizheng/valid', 'type': 'metric', 'community': True, 'likes': 0},\n",
       " {'name': 'erntkn/dice_coefficient',\n",
       "  'type': 'metric',\n",
       "  'community': True,\n",
       "  'likes': 0},\n",
       " {'name': 'mgfrantz/roc_auc_macro',\n",
       "  'type': 'metric',\n",
       "  'community': True,\n",
       "  'likes': 0},\n",
       " {'name': 'Vlasta/pr_auc', 'type': 'metric', 'community': True, 'likes': 0},\n",
       " {'name': 'gorkaartola/metric_for_tp_fp_samples',\n",
       "  'type': 'metric',\n",
       "  'community': True,\n",
       "  'likes': 0},\n",
       " {'name': 'idsedykh/metric', 'type': 'metric', 'community': True, 'likes': 0},\n",
       " {'name': 'idsedykh/codebleu2',\n",
       "  'type': 'metric',\n",
       "  'community': True,\n",
       "  'likes': 1},\n",
       " {'name': 'idsedykh/codebleu',\n",
       "  'type': 'metric',\n",
       "  'community': True,\n",
       "  'likes': 0},\n",
       " {'name': 'idsedykh/megaglue',\n",
       "  'type': 'metric',\n",
       "  'community': True,\n",
       "  'likes': 0},\n",
       " {'name': 'cakiki/ndcg', 'type': 'metric', 'community': True, 'likes': 0},\n",
       " {'name': 'Vertaix/vendiscore',\n",
       "  'type': 'metric',\n",
       "  'community': True,\n",
       "  'likes': 7},\n",
       " {'name': 'GMFTBY/dailydialogevaluate',\n",
       "  'type': 'metric',\n",
       "  'community': True,\n",
       "  'likes': 0},\n",
       " {'name': 'GMFTBY/dailydialog_evaluate',\n",
       "  'type': 'metric',\n",
       "  'community': True,\n",
       "  'likes': 0},\n",
       " {'name': 'jzm-mailchimp/joshs_second_test_metric',\n",
       "  'type': 'metric',\n",
       "  'community': True,\n",
       "  'likes': 0},\n",
       " {'name': 'ola13/precision_at_k',\n",
       "  'type': 'metric',\n",
       "  'community': True,\n",
       "  'likes': 0},\n",
       " {'name': 'yulong-me/yl_metric',\n",
       "  'type': 'metric',\n",
       "  'community': True,\n",
       "  'likes': 0},\n",
       " {'name': 'abidlabs/mean_iou',\n",
       "  'type': 'metric',\n",
       "  'community': True,\n",
       "  'likes': 0},\n",
       " {'name': 'abidlabs/mean_iou2',\n",
       "  'type': 'metric',\n",
       "  'community': True,\n",
       "  'likes': 0},\n",
       " {'name': 'KevinSpaghetti/accuracyk',\n",
       "  'type': 'metric',\n",
       "  'community': True,\n",
       "  'likes': 0},\n",
       " {'name': 'NimaBoscarino/weat',\n",
       "  'type': 'metric',\n",
       "  'community': True,\n",
       "  'likes': 0},\n",
       " {'name': 'ronaldahmed/nwentfaithfulness',\n",
       "  'type': 'metric',\n",
       "  'community': True,\n",
       "  'likes': 0},\n",
       " {'name': 'Viona/infolm', 'type': 'metric', 'community': True, 'likes': 0},\n",
       " {'name': 'kyokote/my_metric2',\n",
       "  'type': 'metric',\n",
       "  'community': True,\n",
       "  'likes': 0},\n",
       " {'name': 'kashif/mape', 'type': 'metric', 'community': True, 'likes': 0},\n",
       " {'name': 'Ochiroo/rouge_mn', 'type': 'metric', 'community': True, 'likes': 0},\n",
       " {'name': 'giulio98/code_eval_outputs',\n",
       "  'type': 'metric',\n",
       "  'community': True,\n",
       "  'likes': 0},\n",
       " {'name': 'leslyarun/fbeta_score',\n",
       "  'type': 'metric',\n",
       "  'community': True,\n",
       "  'likes': 1},\n",
       " {'name': 'giulio98/codebleu',\n",
       "  'type': 'metric',\n",
       "  'community': True,\n",
       "  'likes': 1},\n",
       " {'name': 'anz2/iliauniiccocrevaluation',\n",
       "  'type': 'metric',\n",
       "  'community': True,\n",
       "  'likes': 0},\n",
       " {'name': 'zbeloki/m2', 'type': 'metric', 'community': True, 'likes': 0},\n",
       " {'name': 'xu1998hz/sescore',\n",
       "  'type': 'metric',\n",
       "  'community': True,\n",
       "  'likes': 15},\n",
       " {'name': 'dvitel/codebleu', 'type': 'metric', 'community': True, 'likes': 3},\n",
       " {'name': 'NCSOFT/harim_plus',\n",
       "  'type': 'metric',\n",
       "  'community': True,\n",
       "  'likes': 9},\n",
       " {'name': 'JP-SystemsX/nDCG', 'type': 'metric', 'community': True, 'likes': 0},\n",
       " {'name': 'sportlosos/sescore',\n",
       "  'type': 'metric',\n",
       "  'community': True,\n",
       "  'likes': 0},\n",
       " {'name': 'Drunper/metrica_tesi',\n",
       "  'type': 'metric',\n",
       "  'community': True,\n",
       "  'likes': 0},\n",
       " {'name': 'jpxkqx/peak_signal_to_noise_ratio',\n",
       "  'type': 'metric',\n",
       "  'community': True,\n",
       "  'likes': 0},\n",
       " {'name': 'jpxkqx/signal_to_reconstruction_error',\n",
       "  'type': 'metric',\n",
       "  'community': True,\n",
       "  'likes': 0},\n",
       " {'name': 'hpi-dhc/FairEval', 'type': 'metric', 'community': True, 'likes': 4},\n",
       " {'name': 'lvwerra/accuracy_score',\n",
       "  'type': 'metric',\n",
       "  'community': True,\n",
       "  'likes': 0},\n",
       " {'name': 'ybelkada/cocoevaluate',\n",
       "  'type': 'metric',\n",
       "  'community': True,\n",
       "  'likes': 2},\n",
       " {'name': 'harshhpareek/bertscore',\n",
       "  'type': 'metric',\n",
       "  'community': True,\n",
       "  'likes': 1},\n",
       " {'name': 'posicube/mean_reciprocal_rank',\n",
       "  'type': 'metric',\n",
       "  'community': True,\n",
       "  'likes': 1},\n",
       " {'name': 'bstrai/classification_report',\n",
       "  'type': 'metric',\n",
       "  'community': True,\n",
       "  'likes': 2},\n",
       " {'name': 'omidf/squad_precision_recall',\n",
       "  'type': 'metric',\n",
       "  'community': True,\n",
       "  'likes': 0},\n",
       " {'name': 'Josh98/nl2bash_m', 'type': 'metric', 'community': True, 'likes': 1},\n",
       " {'name': 'BucketHeadP65/confusion_matrix',\n",
       "  'type': 'metric',\n",
       "  'community': True,\n",
       "  'likes': 2},\n",
       " {'name': 'BucketHeadP65/roc_curve',\n",
       "  'type': 'metric',\n",
       "  'community': True,\n",
       "  'likes': 0},\n",
       " {'name': 'yonting/average_precision_score',\n",
       "  'type': 'metric',\n",
       "  'community': True,\n",
       "  'likes': 0},\n",
       " {'name': 'transZ/test_parascore',\n",
       "  'type': 'metric',\n",
       "  'community': True,\n",
       "  'likes': 0},\n",
       " {'name': 'transZ/sbert_cosine',\n",
       "  'type': 'metric',\n",
       "  'community': True,\n",
       "  'likes': 0},\n",
       " {'name': 'hynky/sklearn_proxy',\n",
       "  'type': 'metric',\n",
       "  'community': True,\n",
       "  'likes': 0},\n",
       " {'name': 'xu1998hz/sescore_english_mt',\n",
       "  'type': 'metric',\n",
       "  'community': True,\n",
       "  'likes': 1},\n",
       " {'name': 'xu1998hz/sescore_german_mt',\n",
       "  'type': 'metric',\n",
       "  'community': True,\n",
       "  'likes': 1},\n",
       " {'name': 'xu1998hz/sescore_english_coco',\n",
       "  'type': 'metric',\n",
       "  'community': True,\n",
       "  'likes': 1},\n",
       " {'name': 'xu1998hz/sescore_english_webnlg',\n",
       "  'type': 'metric',\n",
       "  'community': True,\n",
       "  'likes': 1},\n",
       " {'name': 'unnati/kendall_tau_distance',\n",
       "  'type': 'metric',\n",
       "  'community': True,\n",
       "  'likes': 0},\n",
       " {'name': 'Viona/fuzzy_reordering',\n",
       "  'type': 'metric',\n",
       "  'community': True,\n",
       "  'likes': 0},\n",
       " {'name': 'Viona/kendall_tau',\n",
       "  'type': 'metric',\n",
       "  'community': True,\n",
       "  'likes': 0},\n",
       " {'name': 'lhy/hamming_loss', 'type': 'metric', 'community': True, 'likes': 0},\n",
       " {'name': 'lhy/ranking_loss', 'type': 'metric', 'community': True, 'likes': 0},\n",
       " {'name': 'Muennighoff/code_eval_octopack',\n",
       "  'type': 'metric',\n",
       "  'community': True,\n",
       "  'likes': 2},\n",
       " {'name': 'yuyijiong/quad_match_score',\n",
       "  'type': 'metric',\n",
       "  'community': True,\n",
       "  'likes': 1},\n",
       " {'name': 'Splend1dchan/cosine_similarity',\n",
       "  'type': 'metric',\n",
       "  'community': True,\n",
       "  'likes': 0},\n",
       " {'name': 'AlhitawiMohammed22/CER_Hu-Evaluation-Metrics',\n",
       "  'type': 'metric',\n",
       "  'community': True,\n",
       "  'likes': 2},\n",
       " {'name': 'Yeshwant123/mcc', 'type': 'metric', 'community': True, 'likes': 2},\n",
       " {'name': 'transformersegmentation/segmentation_scores',\n",
       "  'type': 'metric',\n",
       "  'community': True,\n",
       "  'likes': 0},\n",
       " {'name': 'sma2023/wil', 'type': 'metric', 'community': True, 'likes': 0},\n",
       " {'name': 'chanelcolgate/average_precision',\n",
       "  'type': 'metric',\n",
       "  'community': True,\n",
       "  'likes': 0},\n",
       " {'name': 'ckb/unigram', 'type': 'metric', 'community': True, 'likes': 0},\n",
       " {'name': 'Felipehonorato/eer',\n",
       "  'type': 'metric',\n",
       "  'community': True,\n",
       "  'likes': 0},\n",
       " {'name': 'manueldeprada/beer',\n",
       "  'type': 'metric',\n",
       "  'community': True,\n",
       "  'likes': 0},\n",
       " {'name': 'tialaeMceryu/unigram',\n",
       "  'type': 'metric',\n",
       "  'community': True,\n",
       "  'likes': 0},\n",
       " {'name': 'shunzh/apps_metric',\n",
       "  'type': 'metric',\n",
       "  'community': True,\n",
       "  'likes': 0},\n",
       " {'name': 'He-Xingwei/sari_metric',\n",
       "  'type': 'metric',\n",
       "  'community': True,\n",
       "  'likes': 0},\n",
       " {'name': 'langdonholmes/cohen_weighted_kappa',\n",
       "  'type': 'metric',\n",
       "  'community': True,\n",
       "  'likes': 0},\n",
       " {'name': 'fschlatt/ner_eval',\n",
       "  'type': 'metric',\n",
       "  'community': True,\n",
       "  'likes': 0},\n",
       " {'name': 'hyperml/balanced_accuracy',\n",
       "  'type': 'metric',\n",
       "  'community': True,\n",
       "  'likes': 0},\n",
       " {'name': 'brian920128/doc_retrieve_metrics',\n",
       "  'type': 'metric',\n",
       "  'community': True,\n",
       "  'likes': 0},\n",
       " {'name': 'guydav/restrictedpython_code_eval',\n",
       "  'type': 'metric',\n",
       "  'community': True,\n",
       "  'likes': 0},\n",
       " {'name': 'k4black/codebleu', 'type': 'metric', 'community': True, 'likes': 1},\n",
       " {'name': 'Natooz/ece', 'type': 'metric', 'community': True, 'likes': 0},\n",
       " {'name': 'ingyu/klue_mrc', 'type': 'metric', 'community': True, 'likes': 0},\n",
       " {'name': 'Vipitis/shadermatch',\n",
       "  'type': 'metric',\n",
       "  'community': True,\n",
       "  'likes': 1},\n",
       " {'name': 'unitxt/metric', 'type': 'metric', 'community': True, 'likes': 0},\n",
       " {'name': 'gabeorlanski/bc_eval',\n",
       "  'type': 'metric',\n",
       "  'community': True,\n",
       "  'likes': 0},\n",
       " {'name': 'jjkim0807/code_eval',\n",
       "  'type': 'metric',\n",
       "  'community': True,\n",
       "  'likes': 0},\n",
       " {'name': 'vichyt/metric-codebleu',\n",
       "  'type': 'metric',\n",
       "  'community': True,\n",
       "  'likes': 0},\n",
       " {'name': 'repllabs/mean_reciprocal_rank',\n",
       "  'type': 'metric',\n",
       "  'community': True,\n",
       "  'likes': 0},\n",
       " {'name': 'repllabs/mean_average_precision',\n",
       "  'type': 'metric',\n",
       "  'community': True,\n",
       "  'likes': 0},\n",
       " {'name': 'mtc/fragments', 'type': 'metric', 'community': True, 'likes': 0},\n",
       " {'name': 'DarrenChensformer/eval_keyphrase',\n",
       "  'type': 'metric',\n",
       "  'community': True,\n",
       "  'likes': 0},\n",
       " {'name': 'kedudzic/charmatch',\n",
       "  'type': 'metric',\n",
       "  'community': True,\n",
       "  'likes': 0},\n",
       " {'name': 'Vallp/ter', 'type': 'metric', 'community': True, 'likes': 0},\n",
       " {'name': 'DarrenChensformer/relation_extraction',\n",
       "  'type': 'metric',\n",
       "  'community': True,\n",
       "  'likes': 0},\n",
       " {'name': 'Ikala-allen/relation_extraction',\n",
       "  'type': 'metric',\n",
       "  'community': True,\n",
       "  'likes': 0},\n",
       " {'name': 'danieldux/hierarchical_softmax_loss',\n",
       "  'type': 'metric',\n",
       "  'community': True,\n",
       "  'likes': 0},\n",
       " {'name': 'nlpln/tst', 'type': 'metric', 'community': True, 'likes': 0},\n",
       " {'name': 'bdsaglam/jer', 'type': 'metric', 'community': True, 'likes': 0},\n",
       " {'name': 'fnvls/bleu1234', 'type': 'metric', 'community': True, 'likes': 0},\n",
       " {'name': 'fnvls/bleu_1234', 'type': 'metric', 'community': True, 'likes': 0},\n",
       " {'name': 'nevikw39/specificity',\n",
       "  'type': 'metric',\n",
       "  'community': True,\n",
       "  'likes': 0},\n",
       " {'name': 'yqsong/execution_accuracy',\n",
       "  'type': 'metric',\n",
       "  'community': True,\n",
       "  'likes': 0},\n",
       " {'name': 'shalakasatheesh/squad_v2',\n",
       "  'type': 'metric',\n",
       "  'community': True,\n",
       "  'likes': 0},\n",
       " {'name': 'arthurvqin/pr_auc',\n",
       "  'type': 'metric',\n",
       "  'community': True,\n",
       "  'likes': 0},\n",
       " {'name': 'd-matrix/dmx_perplexity',\n",
       "  'type': 'metric',\n",
       "  'community': True,\n",
       "  'likes': 0},\n",
       " {'name': 'ncoop57/levenshtein_distance',\n",
       "  'type': 'comparison',\n",
       "  'community': True,\n",
       "  'likes': 0},\n",
       " {'name': 'kaleidophon/almost_stochastic_order',\n",
       "  'type': 'comparison',\n",
       "  'community': True,\n",
       "  'likes': 1},\n",
       " {'name': 'lvwerra/element_count',\n",
       "  'type': 'measurement',\n",
       "  'community': True,\n",
       "  'likes': 0},\n",
       " {'name': 'prb977/cooccurrence_count',\n",
       "  'type': 'measurement',\n",
       "  'community': True,\n",
       "  'likes': 0},\n",
       " {'name': 'NimaBoscarino/pseudo_perplexity',\n",
       "  'type': 'measurement',\n",
       "  'community': True,\n",
       "  'likes': 0},\n",
       " {'name': 'ybelkada/toxicity',\n",
       "  'type': 'measurement',\n",
       "  'community': True,\n",
       "  'likes': 0},\n",
       " {'name': 'ronaldahmed/ccl_win',\n",
       "  'type': 'measurement',\n",
       "  'community': True,\n",
       "  'likes': 0},\n",
       " {'name': 'cakiki/tokens_per_byte',\n",
       "  'type': 'measurement',\n",
       "  'community': True,\n",
       "  'likes': 0},\n",
       " {'name': 'lsy641/distinct',\n",
       "  'type': 'measurement',\n",
       "  'community': True,\n",
       "  'likes': 1}]"
      ]
     },
     "execution_count": 6,
     "metadata": {},
     "output_type": "execute_result"
    }
   ],
   "source": [
    "evaluate.list_evaluation_modules(with_details=True) # with_details=True显示细节"
   ]
  },
  {
   "cell_type": "code",
   "execution_count": 5,
   "metadata": {},
   "outputs": [
    {
     "data": {
      "text/plain": [
       "[]"
      ]
     },
     "execution_count": 5,
     "metadata": {},
     "output_type": "execute_result"
    }
   ],
   "source": [
    "evaluate.list_evaluation_modules(include_community=False) # 不想要社区的"
   ]
  },
  {
   "cell_type": "markdown",
   "metadata": {},
   "source": [
    "## 2. 加载评估函数"
   ]
  },
  {
   "cell_type": "code",
   "execution_count": 8,
   "metadata": {},
   "outputs": [
    {
     "name": "stderr",
     "output_type": "stream",
     "text": [
      "Downloading builder script: 100%|██████████| 4.20k/4.20k [00:00<?, ?B/s]\n"
     ]
    }
   ],
   "source": [
    "accuracy = evaluate.load(\"accuracy\")"
   ]
  },
  {
   "cell_type": "markdown",
   "metadata": {},
   "source": [
    "## 3. 查看函数说明"
   ]
  },
  {
   "cell_type": "code",
   "execution_count": 9,
   "metadata": {},
   "outputs": [
    {
     "name": "stdout",
     "output_type": "stream",
     "text": [
      "\n",
      "Accuracy is the proportion of correct predictions among the total number of cases processed. It can be computed with:\n",
      "Accuracy = (TP + TN) / (TP + TN + FP + FN)\n",
      " Where:\n",
      "TP: True positive\n",
      "TN: True negative\n",
      "FP: False positive\n",
      "FN: False negative\n",
      "\n"
     ]
    }
   ],
   "source": [
    "print(accuracy.description)"
   ]
  },
  {
   "cell_type": "code",
   "execution_count": 10,
   "metadata": {},
   "outputs": [
    {
     "name": "stdout",
     "output_type": "stream",
     "text": [
      "\n",
      "Args:\n",
      "    predictions (`list` of `int`): Predicted labels.\n",
      "    references (`list` of `int`): Ground truth labels.\n",
      "    normalize (`boolean`): If set to False, returns the number of correctly classified samples. Otherwise, returns the fraction of correctly classified samples. Defaults to True.\n",
      "    sample_weight (`list` of `float`): Sample weights Defaults to None.\n",
      "\n",
      "Returns:\n",
      "    accuracy (`float` or `int`): Accuracy score. Minimum possible value is 0. Maximum possible value is 1.0, or the number of examples input, if `normalize` is set to `True`.. A higher score means higher accuracy.\n",
      "\n",
      "Examples:\n",
      "\n",
      "    Example 1-A simple example\n",
      "        >>> accuracy_metric = evaluate.load(\"accuracy\")\n",
      "        >>> results = accuracy_metric.compute(references=[0, 1, 2, 0, 1, 2], predictions=[0, 1, 1, 2, 1, 0])\n",
      "        >>> print(results)\n",
      "        {'accuracy': 0.5}\n",
      "\n",
      "    Example 2-The same as Example 1, except with `normalize` set to `False`.\n",
      "        >>> accuracy_metric = evaluate.load(\"accuracy\")\n",
      "        >>> results = accuracy_metric.compute(references=[0, 1, 2, 0, 1, 2], predictions=[0, 1, 1, 2, 1, 0], normalize=False)\n",
      "        >>> print(results)\n",
      "        {'accuracy': 3.0}\n",
      "\n",
      "    Example 3-The same as Example 1, except with `sample_weight` set.\n",
      "        >>> accuracy_metric = evaluate.load(\"accuracy\")\n",
      "        >>> results = accuracy_metric.compute(references=[0, 1, 2, 0, 1, 2], predictions=[0, 1, 1, 2, 1, 0], sample_weight=[0.5, 2, 0.7, 0.5, 9, 0.4])\n",
      "        >>> print(results)\n",
      "        {'accuracy': 0.8778625954198473}\n",
      "\n"
     ]
    }
   ],
   "source": [
    "print(accuracy.inputs_description)"
   ]
  },
  {
   "cell_type": "code",
   "execution_count": 11,
   "metadata": {},
   "outputs": [
    {
     "data": {
      "text/plain": [
       "EvaluationModule(name: \"accuracy\", module_type: \"metric\", features: {'predictions': Value(dtype='int32', id=None), 'references': Value(dtype='int32', id=None)}, usage: \"\"\"\n",
       "Args:\n",
       "    predictions (`list` of `int`): Predicted labels.\n",
       "    references (`list` of `int`): Ground truth labels.\n",
       "    normalize (`boolean`): If set to False, returns the number of correctly classified samples. Otherwise, returns the fraction of correctly classified samples. Defaults to True.\n",
       "    sample_weight (`list` of `float`): Sample weights Defaults to None.\n",
       "\n",
       "Returns:\n",
       "    accuracy (`float` or `int`): Accuracy score. Minimum possible value is 0. Maximum possible value is 1.0, or the number of examples input, if `normalize` is set to `True`.. A higher score means higher accuracy.\n",
       "\n",
       "Examples:\n",
       "\n",
       "    Example 1-A simple example\n",
       "        >>> accuracy_metric = evaluate.load(\"accuracy\")\n",
       "        >>> results = accuracy_metric.compute(references=[0, 1, 2, 0, 1, 2], predictions=[0, 1, 1, 2, 1, 0])\n",
       "        >>> print(results)\n",
       "        {'accuracy': 0.5}\n",
       "\n",
       "    Example 2-The same as Example 1, except with `normalize` set to `False`.\n",
       "        >>> accuracy_metric = evaluate.load(\"accuracy\")\n",
       "        >>> results = accuracy_metric.compute(references=[0, 1, 2, 0, 1, 2], predictions=[0, 1, 1, 2, 1, 0], normalize=False)\n",
       "        >>> print(results)\n",
       "        {'accuracy': 3.0}\n",
       "\n",
       "    Example 3-The same as Example 1, except with `sample_weight` set.\n",
       "        >>> accuracy_metric = evaluate.load(\"accuracy\")\n",
       "        >>> results = accuracy_metric.compute(references=[0, 1, 2, 0, 1, 2], predictions=[0, 1, 1, 2, 1, 0], sample_weight=[0.5, 2, 0.7, 0.5, 9, 0.4])\n",
       "        >>> print(results)\n",
       "        {'accuracy': 0.8778625954198473}\n",
       "\"\"\", stored examples: 0)"
      ]
     },
     "execution_count": 11,
     "metadata": {},
     "output_type": "execute_result"
    }
   ],
   "source": [
    "accuracy"
   ]
  },
  {
   "cell_type": "markdown",
   "metadata": {},
   "source": [
    "## 4. 评估指标计算"
   ]
  },
  {
   "cell_type": "markdown",
   "metadata": {},
   "source": [
    "### 4.1 全局计算"
   ]
  },
  {
   "cell_type": "code",
   "execution_count": 12,
   "metadata": {},
   "outputs": [
    {
     "data": {
      "text/plain": [
       "{'accuracy': 0.5}"
      ]
     },
     "execution_count": 12,
     "metadata": {},
     "output_type": "execute_result"
    }
   ],
   "source": [
    "accuracy = evaluate.load(\"accuracy\")\n",
    "results = accuracy.compute(references=[0, 1, 2, 0, 1, 2], predictions=[0, 1, 1, 2, 1, 0])\n",
    "results"
   ]
  },
  {
   "cell_type": "markdown",
   "metadata": {},
   "source": [
    "### 4.2 迭代计算"
   ]
  },
  {
   "cell_type": "code",
   "execution_count": 13,
   "metadata": {},
   "outputs": [
    {
     "data": {
      "text/plain": [
       "{'accuracy': 0.5}"
      ]
     },
     "execution_count": 13,
     "metadata": {},
     "output_type": "execute_result"
    }
   ],
   "source": [
    "accuracy = evaluate.load(\"accuracy\")\n",
    "\n",
    "for ref, pred in zip([0, 1, 0, 1], [1, 0, 0, 1]):\n",
    "    accuracy.add(reference=ref, prediction=pred)\n",
    "\n",
    "accuracy.compute()"
   ]
  },
  {
   "cell_type": "code",
   "execution_count": 16,
   "metadata": {},
   "outputs": [
    {
     "data": {
      "text/plain": [
       "{'accuracy': 0.5}"
      ]
     },
     "execution_count": 16,
     "metadata": {},
     "output_type": "execute_result"
    }
   ],
   "source": [
    "accuracy = evaluate.load(\"accuracy\")\n",
    "\n",
    "for refs, preds in zip([[0, 1], [0, 1]], [[1, 0], [0, 1]]):\n",
    "    accuracy.add_batch(references=refs, predictions=preds)\n",
    "\n",
    "accuracy.compute()"
   ]
  },
  {
   "cell_type": "markdown",
   "metadata": {},
   "source": [
    "### 4.3 多个评估指标计算"
   ]
  },
  {
   "cell_type": "code",
   "execution_count": 17,
   "metadata": {},
   "outputs": [
    {
     "name": "stderr",
     "output_type": "stream",
     "text": [
      "Downloading builder script: 100%|██████████| 6.77k/6.77k [00:00<00:00, 6.79MB/s]\n",
      "Downloading builder script: 100%|██████████| 7.36k/7.36k [00:00<?, ?B/s]\n",
      "Downloading builder script: 100%|██████████| 7.55k/7.55k [00:00<00:00, 8.31MB/s]\n"
     ]
    },
    {
     "data": {
      "text/plain": [
       "<evaluate.module.CombinedEvaluations at 0x26e79800790>"
      ]
     },
     "execution_count": 17,
     "metadata": {},
     "output_type": "execute_result"
    }
   ],
   "source": [
    "# 直接指定多个评估函数的名称\n",
    "classification_metrics = evaluate.combine([\"accuracy\", \"f1\", \"recall\", \"precision\"])\n",
    "classification_metrics"
   ]
  },
  {
   "cell_type": "code",
   "execution_count": 18,
   "metadata": {},
   "outputs": [
    {
     "data": {
      "text/plain": [
       "{'accuracy': 0.6666666666666666,\n",
       " 'f1': 0.6666666666666666,\n",
       " 'recall': 0.5,\n",
       " 'precision': 1.0}"
      ]
     },
     "execution_count": 18,
     "metadata": {},
     "output_type": "execute_result"
    }
   ],
   "source": [
    "classification_metrics.compute(predictions=[0, 1, 0], references=[0, 1, 1])"
   ]
  },
  {
   "cell_type": "markdown",
   "metadata": {},
   "source": [
    "## 5. 评估结果对比可视化"
   ]
  },
  {
   "cell_type": "code",
   "execution_count": 19,
   "metadata": {},
   "outputs": [],
   "source": [
    "from evaluate.visualization import radar_plot # 目前只支持雷达图"
   ]
  },
  {
   "cell_type": "code",
   "execution_count": 20,
   "metadata": {},
   "outputs": [],
   "source": [
    "data = [\n",
    "    {\"accuracy\": 0.99, \"precision\": 0.8, \"f1\": 0.95, \"latency_in_senconds\": 33.6},\n",
    "    {\"accuracy\": 0.98, \"precision\": 0.87, \"f1\": 0.91, \"latency_in_senconds\": 11.2},\n",
    "    {\"accuracy\": 0.98, \"precision\": 0.86, \"f1\": 0.88, \"latency_in_senconds\": 87.6},\n",
    "    {\"accuracy\": 0.88, \"precision\": 0.81, \"f1\": 0.93, \"latency_in_senconds\": 101.6}\n",
    "    ]\n",
    "\n",
    "model_names = [\"Model 1\", \"Model 2\", \"Model 3\", \"Molde 4\"]"
   ]
  },
  {
   "cell_type": "code",
   "execution_count": 21,
   "metadata": {},
   "outputs": [
    {
     "data": {
      "image/png": "[encoded data removed]",
      "text/plain": [
       "<Figure size 640x480 with 5 Axes>"
      ]
     },
     "metadata": {},
     "output_type": "display_data"
    }
   ],
   "source": [
    "plot = radar_plot(data=data, model_names=model_names)"
   ]
  }
 ],
 "metadata": {
  "kernelspec": {
   "display_name": "my_transformers",
   "language": "python",
   "name": "my_transformers"
  },
  "language_info": {
   "codemirror_mode": {
    "name": "ipython",
    "version": 3
   },
   "file_extension": ".py",
   "mimetype": "text/x-python",
   "name": "python",
   "nbconvert_exporter": "python",
   "pygments_lexer": "ipython3",
   "version": "3.9.18"
  }
 },
 "nbformat": 4,
 "nbformat_minor": 2
}
